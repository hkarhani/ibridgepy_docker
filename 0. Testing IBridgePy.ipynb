{
 "cells": [
  {
   "cell_type": "code",
   "execution_count": null,
   "metadata": {},
   "outputs": [],
   "source": [
    "accountCode = 'DU12312'"
   ]
  },
  {
   "cell_type": "code",
   "execution_count": null,
   "metadata": {},
   "outputs": [],
   "source": [
    "from configuration import run_me\n",
    "\n",
    "fileName = 'example_show_positions.py'\n",
    "\n",
    "# fileName = 'example_get_historical_data.py'\n",
    "# fileName = 'example_show_real_time_prices.py'\n",
    "# fileName = 'example_place_order.py'\n",
    "# fileName = 'example_get_contract_details.py'\n",
    "# fileName = 'example_get_option_greeks.py'\n",
    "# fileName = 'example_security_screener.py'\n",
    "\n",
    "\n",
    "run_me(fileName, globals())"
   ]
  },
  {
   "cell_type": "code",
   "execution_count": null,
   "metadata": {},
   "outputs": [],
   "source": []
  }
 ],
 "metadata": {
  "kernelspec": {
   "display_name": "Python 3",
   "language": "python",
   "name": "python3"
  },
  "language_info": {
   "codemirror_mode": {
    "name": "ipython",
    "version": 3
   },
   "file_extension": ".py",
   "mimetype": "text/x-python",
   "name": "python",
   "nbconvert_exporter": "python",
   "pygments_lexer": "ipython3",
   "version": "3.6.9"
  }
 },
 "nbformat": 4,
 "nbformat_minor": 4
}
